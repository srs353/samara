{
  "nbformat": 4,
  "nbformat_minor": 0,
  "metadata": {
    "colab": {
      "provenance": [],
      "authorship_tag": "ABX9TyNzFoUoFf7bTRXb2mM6p7C5",
      "include_colab_link": true
    },
    "kernelspec": {
      "name": "python3",
      "display_name": "Python 3"
    },
    "language_info": {
      "name": "python"
    }
  },
  "cells": [
    {
      "cell_type": "markdown",
      "metadata": {
        "id": "view-in-github",
        "colab_type": "text"
      },
      "source": [
        "<a href=\"https://colab.research.google.com/github/srs353/samara/blob/main/.ipynb\" target=\"_parent\"><img src=\"https://colab.research.google.com/assets/colab-badge.svg\" alt=\"Open In Colab\"/></a>"
      ]
    },
    {
      "cell_type": "code",
      "execution_count": 4,
      "metadata": {
        "colab": {
          "base_uri": "https://localhost:8080/"
        },
        "id": "P9ecdglaTHJL",
        "outputId": "a3d6de37-0f7e-4417-b918-74bb960e18bd"
      },
      "outputs": [
        {
          "output_type": "execute_result",
          "data": {
            "text/plain": [
              "120"
            ]
          },
          "metadata": {},
          "execution_count": 4
        }
      ],
      "source": [
        "def fact(n):\n",
        "  p = 1\n",
        "  while n>= 1:\n",
        "    p = p * n\n",
        "    n = n -1\n",
        "  return p\n",
        "\n",
        "fact(5)\n"
      ]
    },
    {
      "cell_type": "code",
      "source": [
        "def recursive_fact(n):\n",
        "  if n == 0:\n",
        "    return 1\n",
        "  else:\n",
        "    return n * recursive_fact(n-1)\n",
        "\n",
        "recursive_fact(5)"
      ],
      "metadata": {
        "colab": {
          "base_uri": "https://localhost:8080/"
        },
        "id": "B0fU7GIkTWdE",
        "outputId": "ea636130-33db-4ad7-b0f0-6957137ba23c"
      },
      "execution_count": 7,
      "outputs": [
        {
          "output_type": "execute_result",
          "data": {
            "text/plain": [
              "120"
            ]
          },
          "metadata": {},
          "execution_count": 7
        }
      ]
    },
    {
      "cell_type": "code",
      "source": [
        "def inverse(n):\n",
        "  n = input(\"Enter phrase: \")\n",
        "  if len(n) == 1:\n",
        "    return n\n",
        "\n",
        "\n",
        "n = 1\n",
        "inverse(n)"
      ],
      "metadata": {
        "colab": {
          "base_uri": "https://localhost:8080/",
          "height": 52
        },
        "id": "g6zrDKDDWSK7",
        "outputId": "364ed96b-cc36-4f87-9503-178182eac40c"
      },
      "execution_count": 27,
      "outputs": [
        {
          "name": "stdout",
          "output_type": "stream",
          "text": [
            "Enter phrase: h\n"
          ]
        },
        {
          "output_type": "execute_result",
          "data": {
            "text/plain": [
              "'h'"
            ],
            "application/vnd.google.colaboratory.intrinsic+json": {
              "type": "string"
            }
          },
          "metadata": {},
          "execution_count": 27
        }
      ]
    },
    {
      "cell_type": "code",
      "source": [
        "def recursive_inv(s):\n",
        "  if len(s) == 1:\n",
        "    return s\n",
        "  else:\n",
        "     return s[-1] + recursive_inv(s[:-1])\n",
        "\n",
        "\n",
        "recursive_inv('string')"
      ],
      "metadata": {
        "colab": {
          "base_uri": "https://localhost:8080/",
          "height": 35
        },
        "id": "cZn8YUemY2jb",
        "outputId": "b8c2a685-d3b5-4644-cf1f-fc1a82ca1898"
      },
      "execution_count": 9,
      "outputs": [
        {
          "output_type": "execute_result",
          "data": {
            "text/plain": [
              "'gnirts'"
            ],
            "application/vnd.google.colaboratory.intrinsic+json": {
              "type": "string"
            }
          },
          "metadata": {},
          "execution_count": 9
        }
      ]
    }
  ]
}