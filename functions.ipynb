{
  "nbformat": 4,
  "nbformat_minor": 0,
  "metadata": {
    "colab": {
      "provenance": [],
      "authorship_tag": "ABX9TyPGhY0ssUNF7J/O8jtmjAYb",
      "include_colab_link": true
    },
    "kernelspec": {
      "name": "python3",
      "display_name": "Python 3"
    },
    "language_info": {
      "name": "python"
    }
  },
  "cells": [
    {
      "cell_type": "markdown",
      "metadata": {
        "id": "view-in-github",
        "colab_type": "text"
      },
      "source": [
        "<a href=\"https://colab.research.google.com/github/srs353/samara/blob/main/functions.ipynb\" target=\"_parent\"><img src=\"https://colab.research.google.com/assets/colab-badge.svg\" alt=\"Open In Colab\"/></a>"
      ]
    },
    {
      "cell_type": "code",
      "execution_count": 3,
      "metadata": {
        "colab": {
          "base_uri": "https://localhost:8080/"
        },
        "id": "mcZazL9m2HXi",
        "outputId": "5f090c09-9e49-466d-8564-7b1378f8ee3e"
      },
      "outputs": [
        {
          "output_type": "stream",
          "name": "stdout",
          "text": [
            "[1, 3, 5, 7, 9]\n"
          ]
        }
      ],
      "source": [
        "aList = []\n",
        "\n",
        "for i in range(10):\n",
        "  aList.append(i)\n",
        "  if i%2 == 0:\n",
        "    aList.pop()\n",
        "print(aList)"
      ]
    },
    {
      "cell_type": "code",
      "source": [
        "def fill(l):\n",
        "  for i in range(10):\n",
        "    l.append(i)\n",
        "    if i%2 == 0:\n",
        "     l.pop()\n",
        "  print(l)"
      ],
      "metadata": {
        "id": "nvkC4hHi3U13"
      },
      "execution_count": 8,
      "outputs": []
    },
    {
      "cell_type": "code",
      "source": [
        "def greeting(n):\n",
        "  print(f'Hello {n}')\n",
        "\n",
        "name = input('Enter name: ')\n",
        "greeting(name)"
      ],
      "metadata": {
        "colab": {
          "base_uri": "https://localhost:8080/"
        },
        "id": "oZ7AGXVr8Ihp",
        "outputId": "fa0105a8-f119-415b-dfdb-081d26222830"
      },
      "execution_count": 7,
      "outputs": [
        {
          "output_type": "stream",
          "name": "stdout",
          "text": [
            "Enter name: samara\n",
            "Hello samara\n"
          ]
        }
      ]
    }
  ]
}