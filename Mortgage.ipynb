{
  "nbformat": 4,
  "nbformat_minor": 0,
  "metadata": {
    "colab": {
      "provenance": [],
      "authorship_tag": "ABX9TyNBce+jkfik2DymoLNKDoYc",
      "include_colab_link": true
    },
    "kernelspec": {
      "name": "python3",
      "display_name": "Python 3"
    },
    "language_info": {
      "name": "python"
    }
  },
  "cells": [
    {
      "cell_type": "markdown",
      "metadata": {
        "id": "view-in-github",
        "colab_type": "text"
      },
      "source": [
        "<a href=\"https://colab.research.google.com/github/srs353/samara/blob/main/Mortgage.ipynb\" target=\"_parent\"><img src=\"https://colab.research.google.com/assets/colab-badge.svg\" alt=\"Open In Colab\"/></a>"
      ]
    },
    {
      "cell_type": "code",
      "execution_count": 19,
      "metadata": {
        "id": "BFl4v279FHyc"
      },
      "outputs": [],
      "source": [
        "class Mortgage:\n",
        "  def __init__(self, amount, maturity, interest):\n",
        "    self.amount = amount\n",
        "    self.maturity = maturity\n",
        "    self.__interest = interest\n",
        "\n",
        "def __str__(self):\n",
        "  return f'Mortgage info: \\n Initial Loan Amount: {format(self.amount,\",.2f\")} $\\n maturity term: {self.maturity} (years) \\n Interest Rate: {self.__interest}%'\n",
        "\n",
        "def get_interest(self):\n",
        "  return self.__interest\n",
        "\n",
        "def set_interest(self,newInterest):\n",
        "  if newInterest >= 0:\n",
        "    self.__interest = newInterest\n",
        "  else:\n",
        "    print('Interest must be non-negative!')\n",
        "\n",
        "def payment(self):\n",
        "  B = self.amount\n",
        "  n = self.maturity * 12\n",
        "  r = self.__interest / 100\n",
        "  return B * (r*(1+r)**n ) / ((1+r)** n -1)\n"
      ]
    },
    {
      "cell_type": "code",
      "source": [
        "trial = Mortgage(100000, 30, 6)\n",
        "trial.__str__"
      ],
      "metadata": {
        "colab": {
          "base_uri": "https://localhost:8080/"
        },
        "id": "G39QP_qVMtwb",
        "outputId": "6dcbf46c-70ff-40d2-801c-387c3e2a1467"
      },
      "execution_count": 22,
      "outputs": [
        {
          "output_type": "execute_result",
          "data": {
            "text/plain": [
              "<method-wrapper '__str__' of Mortgage object at 0x7854b3857b50>"
            ]
          },
          "metadata": {},
          "execution_count": 22
        }
      ]
    },
    {
      "cell_type": "code",
      "source": [
        "class A:\n",
        "  def __init__(self,item):\n",
        "    self.item = item\n",
        "  def whoAmI(self):\n",
        "    print('I am an instance of class A')\n",
        "  def __repr__(self):\n",
        "    return f'item: {self.item}'\n",
        "  def __add__(self,other):\n",
        "    return self.item + other.item\n",
        "\n",
        "class B:\n",
        "  def __init__(self,item):\n",
        "    self.item = item\n",
        "  def whoAmI(self):\n",
        "    print('I am an instance of class B')\n",
        "\n",
        "\n",
        "a1 = A(2)\n",
        "a2 = A(5)\n",
        "b = B(3)"
      ],
      "metadata": {
        "id": "LttjBtIeGWOv"
      },
      "execution_count": 11,
      "outputs": []
    },
    {
      "cell_type": "code",
      "source": [
        "a.whoAmI()"
      ],
      "metadata": {
        "colab": {
          "base_uri": "https://localhost:8080/"
        },
        "id": "vfl583FcG2o5",
        "outputId": "860e4962-138c-4b0e-f417-bc9b4e34c20f"
      },
      "execution_count": 5,
      "outputs": [
        {
          "output_type": "stream",
          "name": "stdout",
          "text": [
            "I am an instance of class A\n"
          ]
        }
      ]
    },
    {
      "cell_type": "code",
      "source": [
        "a1+a2"
      ],
      "metadata": {
        "colab": {
          "base_uri": "https://localhost:8080/"
        },
        "id": "0tuxKidpLRag",
        "outputId": "7b5e7f7d-79fb-4ac6-842d-8719691ae63d"
      },
      "execution_count": 12,
      "outputs": [
        {
          "output_type": "execute_result",
          "data": {
            "text/plain": [
              "7"
            ]
          },
          "metadata": {},
          "execution_count": 12
        }
      ]
    }
  ]
}