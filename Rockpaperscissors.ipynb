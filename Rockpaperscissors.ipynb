{
  "nbformat": 4,
  "nbformat_minor": 0,
  "metadata": {
    "colab": {
      "provenance": [],
      "authorship_tag": "ABX9TyMMkmi95sdrft7ke7qfpufX",
      "include_colab_link": true
    },
    "kernelspec": {
      "name": "python3",
      "display_name": "Python 3"
    },
    "language_info": {
      "name": "python"
    }
  },
  "cells": [
    {
      "cell_type": "markdown",
      "metadata": {
        "id": "view-in-github",
        "colab_type": "text"
      },
      "source": [
        "<a href=\"https://colab.research.google.com/github/srs353/samara/blob/main/Rockpaperscissors.ipynb\" target=\"_parent\"><img src=\"https://colab.research.google.com/assets/colab-badge.svg\" alt=\"Open In Colab\"/></a>"
      ]
    },
    {
      "cell_type": "code",
      "execution_count": 4,
      "metadata": {
        "colab": {
          "base_uri": "https://localhost:8080/"
        },
        "id": "vEPktCDUU0F6",
        "outputId": "42e75d4e-311a-4bd2-8b04-1e9bd2747b09"
      },
      "outputs": [
        {
          "output_type": "stream",
          "name": "stdout",
          "text": [
            "Rock\n",
            "Pc:Rock, User:Rock\n",
            "Tie\n"
          ]
        }
      ],
      "source": [
        "import random\n",
        "pc_choice = random.choice(['Rock','Paper','Scissors'])\n",
        "user_choice = input()\n",
        "print(f'Pc:{pc_choice}, User:{user_choice}')\n",
        "if user_choice == pc_choice:\n",
        "  print('Tie')\n",
        "elif user_choice == 'Rock' and pc_choice == 'Paper' or user_choice == 'Paper' and pc_choice == 'Scissors' or user_choice == 'Scissors' and pc_choice == 'Rock':\n",
        "  print('PC Wins')\n",
        "else:\n",
        "  print('User Wins')"
      ]
    }
  ]
}