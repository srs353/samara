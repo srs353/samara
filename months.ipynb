{
  "nbformat": 4,
  "nbformat_minor": 0,
  "metadata": {
    "colab": {
      "provenance": [],
      "authorship_tag": "ABX9TyOH0Q1PSpFh2x0+JijZMXzl",
      "include_colab_link": true
    },
    "kernelspec": {
      "name": "python3",
      "display_name": "Python 3"
    },
    "language_info": {
      "name": "python"
    }
  },
  "cells": [
    {
      "cell_type": "markdown",
      "metadata": {
        "id": "view-in-github",
        "colab_type": "text"
      },
      "source": [
        "<a href=\"https://colab.research.google.com/github/srs353/samara/blob/main/months.ipynb\" target=\"_parent\"><img src=\"https://colab.research.google.com/assets/colab-badge.svg\" alt=\"Open In Colab\"/></a>"
      ]
    },
    {
      "cell_type": "code",
      "execution_count": null,
      "metadata": {
        "id": "bD0mjTWqlKuF"
      },
      "outputs": [],
      "source": [
        "t=(1,'two',3.0)"
      ]
    },
    {
      "cell_type": "code",
      "source": [
        "grades = {\n",
        "    'ALice' : 91,\n",
        "    'Bob' : 88,\n",
        "    'Tracy' : 93,\n",
        "    'Erik' :90\n",
        "}"
      ],
      "metadata": {
        "id": "wDtg9U35nDcU"
      },
      "execution_count": 1,
      "outputs": []
    },
    {
      "cell_type": "code",
      "source": [
        "for key in grades.keys():\n",
        "  print(key)"
      ],
      "metadata": {
        "colab": {
          "base_uri": "https://localhost:8080/"
        },
        "id": "itcEVQgaACR3",
        "outputId": "1fc873f0-8207-48b6-c3d2-21219ad9b560"
      },
      "execution_count": 2,
      "outputs": [
        {
          "output_type": "stream",
          "name": "stdout",
          "text": [
            "ALice\n",
            "Bob\n",
            "Tracy\n",
            "Erik\n"
          ]
        }
      ]
    },
    {
      "cell_type": "code",
      "source": [
        "for value in grades.values():\n",
        "  print(value)"
      ],
      "metadata": {
        "colab": {
          "base_uri": "https://localhost:8080/"
        },
        "id": "MQC9GtLBAb09",
        "outputId": "15665330-3ba4-4293-8af4-85a199ca4f7f"
      },
      "execution_count": 3,
      "outputs": [
        {
          "output_type": "stream",
          "name": "stdout",
          "text": [
            "91\n",
            "88\n",
            "93\n",
            "90\n"
          ]
        }
      ]
    },
    {
      "cell_type": "code",
      "source": [
        "for key, value in grades.items():\n",
        "  print(f'Key:{key }, Value:{value}')"
      ],
      "metadata": {
        "colab": {
          "base_uri": "https://localhost:8080/"
        },
        "id": "I_4NZQtlA6Fp",
        "outputId": "febf073c-1c85-40b9-8c84-bc5c4b3d915d"
      },
      "execution_count": 7,
      "outputs": [
        {
          "output_type": "stream",
          "name": "stdout",
          "text": [
            "Key:ALice, Value:91\n",
            "Key:Bob, Value:88\n",
            "Key:Tracy, Value:93\n",
            "Key:Erik, Value:90\n"
          ]
        }
      ]
    },
    {
      "cell_type": "code",
      "source": [
        "months = {1: \"January\", 2: \"February\", 3:\"March\" }\n",
        "\n",
        "print(f'The first month of the year is {months[1]}')"
      ],
      "metadata": {
        "colab": {
          "base_uri": "https://localhost:8080/"
        },
        "id": "bGITSOceBd17",
        "outputId": "fb2cf9ae-6a4e-4629-abd2-44b41c2cb727"
      },
      "execution_count": 10,
      "outputs": [
        {
          "output_type": "stream",
          "name": "stdout",
          "text": [
            "The first month of the year is January\n"
          ]
        }
      ]
    },
    {
      "cell_type": "code",
      "source": [
        "months = {}\n",
        "numbers = [1,2,3,4,5,6,7,8,9,10,11,12]\n",
        "names = [\"Jan\",\"Feb\",\"Mar\",\"Apr\", \"May\", \"Jun\", \"Jul\", \"Aug\", \"Sep\", \"Oct\", \"Nov\", \"Dec\"]"
      ],
      "metadata": {
        "id": "rzJMak6DCaii"
      },
      "execution_count": 63,
      "outputs": []
    },
    {
      "cell_type": "code",
      "source": [
        "for num in range(12):\n",
        "  months[num+1] = names[num]\n",
        "print(months)"
      ],
      "metadata": {
        "colab": {
          "base_uri": "https://localhost:8080/"
        },
        "id": "T3Uf8nAjHzTk",
        "outputId": "dc6d6a23-9e51-4b3f-d33f-48bee2186cf9"
      },
      "execution_count": 61,
      "outputs": [
        {
          "output_type": "stream",
          "name": "stdout",
          "text": [
            "{1: 'Jan', 2: 'Feb', 3: 'Mar', 4: 'Apr', 5: 'May', 6: 'Jun', 7: 'Jul', 8: 'Aug', 9: 'Sep', 10: 'Oct', 11: 'Nov', 12: 'Dec'}\n"
          ]
        }
      ]
    },
    {
      "cell_type": "code",
      "source": [
        "for numbers in range(1,13):\n",
        "  months[numbers] = names[numbers-1]\n",
        "print(months)"
      ],
      "metadata": {
        "colab": {
          "base_uri": "https://localhost:8080/"
        },
        "id": "ZPsiBmdPBlka",
        "outputId": "3ea6bda1-c928-419d-8ed2-e186b04eece5"
      },
      "execution_count": 62,
      "outputs": [
        {
          "output_type": "stream",
          "name": "stdout",
          "text": [
            "{1: 'Jan', 2: 'Feb', 3: 'Mar', 4: 'Apr', 5: 'May', 6: 'Jun', 7: 'Jul', 8: 'Aug', 9: 'Sep', 10: 'Oct', 11: 'Nov', 12: 'Dec'}\n"
          ]
        }
      ]
    },
    {
      "cell_type": "code",
      "source": [
        "for num in numbers:\n",
        "  months[num] = names[num-1]\n",
        "print(months)"
      ],
      "metadata": {
        "colab": {
          "base_uri": "https://localhost:8080/"
        },
        "id": "MtMCVBRgIowz",
        "outputId": "465d39a6-16c3-4983-ead9-f1dbf15e6432"
      },
      "execution_count": 64,
      "outputs": [
        {
          "output_type": "stream",
          "name": "stdout",
          "text": [
            "{1: 'Jan', 2: 'Feb', 3: 'Mar', 4: 'Apr', 5: 'May', 6: 'Jun', 7: 'Jul', 8: 'Aug', 9: 'Sep', 10: 'Oct', 11: 'Nov', 12: 'Dec'}\n"
          ]
        }
      ]
    }
  ]
}