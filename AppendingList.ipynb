{
  "nbformat": 4,
  "nbformat_minor": 0,
  "metadata": {
    "colab": {
      "provenance": [],
      "authorship_tag": "ABX9TyOrptLSmw3mITw9j4M1G3zD",
      "include_colab_link": true
    },
    "kernelspec": {
      "name": "python3",
      "display_name": "Python 3"
    },
    "language_info": {
      "name": "python"
    }
  },
  "cells": [
    {
      "cell_type": "markdown",
      "metadata": {
        "id": "view-in-github",
        "colab_type": "text"
      },
      "source": [
        "<a href=\"https://colab.research.google.com/github/srs353/samara/blob/main/AppendingList.ipynb\" target=\"_parent\"><img src=\"https://colab.research.google.com/assets/colab-badge.svg\" alt=\"Open In Colab\"/></a>"
      ]
    },
    {
      "cell_type": "code",
      "source": [
        "L =[1,'two',3.14,print,[5,7,9]]"
      ],
      "metadata": {
        "id": "qeZlOFgCPvqi"
      },
      "execution_count": 1,
      "outputs": []
    },
    {
      "cell_type": "code",
      "execution_count": 2,
      "metadata": {
        "colab": {
          "base_uri": "https://localhost:8080/"
        },
        "id": "FPw_8XMaPqRa",
        "outputId": "72de335f-c94f-4404-8d66-edad518153f8"
      },
      "outputs": [
        {
          "output_type": "execute_result",
          "data": {
            "text/plain": [
              "[1, 'two', 3.14, <function print>, [5, 7, 9], 'three']"
            ]
          },
          "metadata": {},
          "execution_count": 2
        }
      ],
      "source": [
        "L.append('three')\n",
        "L"
      ]
    },
    {
      "cell_type": "code",
      "source": [
        "L = []\n",
        "\n",
        "while True:\n",
        "  number = int(input('Enter a value:'))\n",
        "  L.append(number)\n",
        "  if number == 0:\n",
        "    L.pop()\n",
        "    break\n",
        "print(L)\n",
        ""
      ],
      "metadata": {
        "colab": {
          "base_uri": "https://localhost:8080/"
        },
        "id": "w4uSecNtSrV0",
        "outputId": "86db952c-9dee-4f9f-ca4d-e68b1a2a0436"
      },
      "execution_count": 36,
      "outputs": [
        {
          "output_type": "stream",
          "name": "stdout",
          "text": [
            "Enter a value:3\n",
            "Enter a value:4\n",
            "Enter a value:5\n",
            "Enter a value:0\n",
            "[3, 4, 5]\n"
          ]
        }
      ]
    }
  ]
}