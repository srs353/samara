{
  "nbformat": 4,
  "nbformat_minor": 0,
  "metadata": {
    "colab": {
      "provenance": [],
      "authorship_tag": "ABX9TyOomsXX9Ehl+w9Fm3m5T8Rg",
      "include_colab_link": true
    },
    "kernelspec": {
      "name": "python3",
      "display_name": "Python 3"
    },
    "language_info": {
      "name": "python"
    }
  },
  "cells": [
    {
      "cell_type": "markdown",
      "metadata": {
        "id": "view-in-github",
        "colab_type": "text"
      },
      "source": [
        "<a href=\"https://colab.research.google.com/github/srs353/samara/blob/main/Calculator.ipynb\" target=\"_parent\"><img src=\"https://colab.research.google.com/assets/colab-badge.svg\" alt=\"Open In Colab\"/></a>"
      ]
    },
    {
      "cell_type": "code",
      "execution_count": 11,
      "metadata": {
        "colab": {
          "base_uri": "https://localhost:8080/"
        },
        "id": "5KqPqosk2By6",
        "outputId": "aa424a76-a262-41da-8191-42b3902345f7"
      },
      "outputs": [
        {
          "output_type": "stream",
          "name": "stdout",
          "text": [
            "Enter First Integer:2\n",
            "Enter Second Integer:1\n",
            "Enter Operator:-\n",
            "Result 1.0\n",
            "Enter First Integer:3\n",
            "Enter Second Integer:2\n",
            "Enter Operator:*\n",
            "Result 6.0\n",
            "Enter First Integer:2\n",
            "Enter Second Integer:8\n",
            "Enter Operator:/d\n",
            "Invalid Operator /d\n",
            "Enter First Integer:3\n",
            "Enter Second Integer:2\n",
            "Enter Operator:break\n",
            "Goodbye!\n"
          ]
        }
      ],
      "source": [
        "while True:\n",
        "  user_input = float(input(\"Enter First Integer:\" ))\n",
        "  user_input2 = float(input(\"Enter Second Integer:\"))\n",
        "  operator_input = input(\"Enter Operator:\")\n",
        "\n",
        "  if operator_input == 'break':\n",
        "    print(\"Goodbye!\")\n",
        "    break\n",
        "\n",
        "  if operator_input == '+':\n",
        "    print(\"Result\", user_input+user_input2)\n",
        "  elif operator_input == '-':\n",
        "    print(\"Result\", user_input-user_input2)\n",
        "  elif operator_input == '*':\n",
        "    print(\"Result\", user_input*user_input2)\n",
        "  elif operator_input == '/':\n",
        "    print(\"Result\", user_input/user_input2)\n",
        "  elif operator_input == '//':\n",
        "    print(\"Result\", user_input//user_input2)\n",
        "  elif operator_input == '%':\n",
        "   print(\"Result\", user_input%user_input2)\n",
        "  elif operator_input == '**':\n",
        "    print(\"Result\", user_input**user_input2)\n",
        "  else:\n",
        "    print(\"Invalid Operator\", operator_input)\n",
        "    continue"
      ]
    }
  ]
}