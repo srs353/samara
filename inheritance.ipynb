{
  "nbformat": 4,
  "nbformat_minor": 0,
  "metadata": {
    "colab": {
      "provenance": [],
      "authorship_tag": "ABX9TyOcqcYCM/MfPpxdGcSQrfVQ",
      "include_colab_link": true
    },
    "kernelspec": {
      "name": "python3",
      "display_name": "Python 3"
    },
    "language_info": {
      "name": "python"
    }
  },
  "cells": [
    {
      "cell_type": "markdown",
      "metadata": {
        "id": "view-in-github",
        "colab_type": "text"
      },
      "source": [
        "<a href=\"https://colab.research.google.com/github/srs353/samara/blob/main/inheritance.ipynb\" target=\"_parent\"><img src=\"https://colab.research.google.com/assets/colab-badge.svg\" alt=\"Open In Colab\"/></a>"
      ]
    },
    {
      "cell_type": "code",
      "execution_count": 23,
      "metadata": {
        "colab": {
          "base_uri": "https://localhost:8080/"
        },
        "id": "7D0K99xEYX6f",
        "outputId": "73ddf0b9-921b-44dd-e305-3d368d9e83da"
      },
      "outputs": [
        {
          "output_type": "stream",
          "name": "stdout",
          "text": [
            "6.782329983125268\n"
          ]
        }
      ],
      "source": [
        "class Point:\n",
        "  def __init__(self, x, y):\n",
        "    self.x = x\n",
        "    self.y = y\n",
        "  def distance(self,other):\n",
        "    x_diff = (self.x - other.x)**2\n",
        "    y_diff = (self.y - other.y)**2\n",
        "    return (x_diff + y_diff)**.5\n",
        "\n",
        "class point3d(Point):\n",
        "  def __init__(self,x,y,z):\n",
        "    super().__init__(x,y)\n",
        "    self.z = z\n",
        "  def distance(self,other):\n",
        "    x_diff = (self.x - other.x)**2\n",
        "    y_diff = (self.y - other.y)**2\n",
        "    z_diff = (self.z - other.z)**2\n",
        "    return (x_diff + y_diff+z_diff)**.5\n",
        "\n",
        "\n",
        "  p1 = point3d(3,2,4)\n",
        "  p2 = point3d(6,8,5)\n",
        "  print((p1.distance(p2)))"
      ]
    },
    {
      "cell_type": "code",
      "source": [
        "class Animal:\n",
        "  def __init__(self,legs):\n",
        "    self.legs = legs\n",
        "    print('Animal created')\n",
        "  def whoAmI(self):\n",
        "    print( 'I am an animal')\n",
        "\n",
        "class Bird(Animal):\n",
        "  def __init__(self,wings,legs):\n",
        "    super().__init__(legs)\n",
        "    self.wings = wings\n",
        "    print('bird created')\n",
        "  def fly(self):\n",
        "    print('Birds can fly')\n",
        "\n",
        "a = Animal(4)\n",
        "b = Bird(2,2)"
      ],
      "metadata": {
        "colab": {
          "base_uri": "https://localhost:8080/"
        },
        "id": "tvwNc75uc0yC",
        "outputId": "54c1ae95-b004-4279-ba46-32a9606100f6"
      },
      "execution_count": 15,
      "outputs": [
        {
          "output_type": "stream",
          "name": "stdout",
          "text": [
            "Animal created\n",
            "Animal created\n",
            "bird created\n"
          ]
        }
      ]
    }
  ]
}