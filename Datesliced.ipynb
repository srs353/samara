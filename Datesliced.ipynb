{
  "nbformat": 4,
  "nbformat_minor": 0,
  "metadata": {
    "colab": {
      "provenance": [],
      "authorship_tag": "ABX9TyM3vCwVfYQ2DiuuuKWvF4Wo",
      "include_colab_link": true
    },
    "kernelspec": {
      "name": "python3",
      "display_name": "Python 3"
    },
    "language_info": {
      "name": "python"
    }
  },
  "cells": [
    {
      "cell_type": "markdown",
      "metadata": {
        "id": "view-in-github",
        "colab_type": "text"
      },
      "source": [
        "<a href=\"https://colab.research.google.com/github/srs353/samara/blob/main/Datesliced.ipynb\" target=\"_parent\"><img src=\"https://colab.research.google.com/assets/colab-badge.svg\" alt=\"Open In Colab\"/></a>"
      ]
    },
    {
      "cell_type": "code",
      "execution_count": 25,
      "metadata": {
        "colab": {
          "base_uri": "https://localhost:8080/"
        },
        "id": "-YnJv3EiNe8F",
        "outputId": "73212670-5bef-4ebe-b082-8800f89aa213"
      },
      "outputs": [
        {
          "output_type": "stream",
          "name": "stdout",
          "text": [
            "Enter Date (MM/DD/YYYY):02/21/2024\n",
            "month = 02 day = 21 year = 2024\n"
          ]
        }
      ],
      "source": [
        "s = input(\"Enter Date (MM/DD/YYYY):\")\n",
        "m = s[:2]\n",
        "d = s[3:5]\n",
        "y = s[6:len(s)]\n",
        "print(f'month = {m} day = {d} year = {y}')"
      ]
    }
  ]
}