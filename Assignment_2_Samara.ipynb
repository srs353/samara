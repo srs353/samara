{
  "nbformat": 4,
  "nbformat_minor": 0,
  "metadata": {
    "colab": {
      "provenance": [],
      "include_colab_link": true
    },
    "kernelspec": {
      "name": "python3",
      "display_name": "Python 3"
    },
    "language_info": {
      "name": "python"
    }
  },
  "cells": [
    {
      "cell_type": "markdown",
      "metadata": {
        "id": "view-in-github",
        "colab_type": "text"
      },
      "source": [
        "<a href=\"https://colab.research.google.com/github/srs353/samara/blob/main/Assignment_2_Samara.ipynb\" target=\"_parent\"><img src=\"https://colab.research.google.com/assets/colab-badge.svg\" alt=\"Open In Colab\"/></a>"
      ]
    },
    {
      "cell_type": "markdown",
      "source": [
        "# Problem Set 2"
      ],
      "metadata": {
        "id": "mqKVIuY-mxNU"
      }
    },
    {
      "cell_type": "markdown",
      "source": [
        "## Assignment 1: Quality Control (7 points)\n",
        "\n",
        "A quality control manager would like to find the average weight of a list of weights. Prior experience indicates that the first two measures are atypical, and the practice is to exclude these from the average calculation.\n",
        "\n",
        "Write a program that calculates the average of a list of numbers that given as inputs from the user, excluding the first two values.\n",
        "\n",
        "For your program, you must define and use the following functions:\n",
        "- `getValues(n)`: Prompt the user for `n` values, returns the list\n",
        "- `calcAverage(alist)`: Calculates the average from the list"
      ],
      "metadata": {
        "id": "-RSYW1jVm08n"
      }
    },
    {
      "cell_type": "code",
      "execution_count": null,
      "metadata": {
        "id": "AqbgJkgNmvQw"
      },
      "outputs": [],
      "source": [
        "def getValues(n):\n",
        "  weights = []\n",
        "  if n < 3:\n",
        "    print('Not enough inputs')\n",
        "    return None\n",
        "  for i in range(n):\n",
        "    weight = float(input('Enter a weight: '))\n",
        "    weights.append(weight)\n",
        "  return weights[2:]\n",
        "\n",
        "def calcAverage(alist):\n",
        "  print(sum(alist)/len(alist))"
      ]
    },
    {
      "cell_type": "code",
      "source": [
        "n_weights = int(input('Enter number of weights to be added to list:'))\n",
        "calcAverage(getValues(n_weights))"
      ],
      "metadata": {
        "colab": {
          "base_uri": "https://localhost:8080/"
        },
        "id": "KpbKQwQOiHZ5",
        "outputId": "d4606f58-d4d3-4ac2-b16f-1f49444a4423"
      },
      "execution_count": null,
      "outputs": [
        {
          "output_type": "stream",
          "name": "stdout",
          "text": [
            "Enter number of weights to be added to list:6\n",
            "Enter a weight: 1\n",
            "Enter a weight: 2\n",
            "Enter a weight: 3\n",
            "Enter a weight: 4\n",
            "Enter a weight: 5\n",
            "Enter a weight: 6\n",
            "4.5\n"
          ]
        }
      ]
    },
    {
      "cell_type": "markdown",
      "source": [
        "## Assignment 2: Country Statistics Lookup-Multiple Measures (6 points)\n",
        "\n",
        "Assume a program begins with the statement:\n",
        "\n",
        "```python\n",
        "allData = { # dictionary of values for countries\n",
        "    'US': {'pop':325.7, 'gdp': 19.39, 'ccy': 'USD', 'fx':  1.0},\n",
        "    'CA': {'pop': 36.5, 'gdp':  1.65, 'ccy': 'CAD', 'fx':  1.35},\n",
        "    'MX': {'pop':129.2, 'gdp':  1.15, 'ccy': 'MXN', 'fx': 19.68}\n",
        "    }\n",
        "```\n",
        "\n",
        "Write subsequent statements that (in a loop) prompt the user for a country code (`US`, `CA`, or `MX`), then prompt for a measure name (`pop`, `gdp`, `ccy`, or `fx`), then look up in the above dictionary for the corresponding value, and display it.\n",
        "\n",
        "Example run:\n",
        "```\n",
        "Please enter a country code: CA\n",
        "Please enter a statistic: pop\n",
        "CA pop = 36.5\n",
        "```\n",
        "\n",
        "Your program should handle the cases where a user-entered country code or measure name is not found."
      ],
      "metadata": {
        "id": "QFO0Kzx8ncnv"
      }
    },
    {
      "cell_type": "code",
      "source": [
        "allData = {\n",
        "    'US': {'pop': 325.7, 'gdp': 19.39, 'ccy': 'USD', 'fx': 1.0},\n",
        "    'CA': {'pop': 36.5, 'gdp': 1.65, 'ccy': 'CAD', 'fx': 1.35},\n",
        "    'MX': {'pop': 129.2, 'gdp': 1.15, 'ccy': 'MXN', 'fx': 19.68}\n",
        "}\n",
        "\n",
        "while True:\n",
        "  country_code = input(\"Enter a country code (or type exit if you want to stop): \")\n",
        "  if country_code == \"exit\":\n",
        "    break\n",
        "  if country_code not in allData.keys():\n",
        "    print(\"This country code does not exist. Enter another\")\n",
        "    continue\n",
        "\n",
        "  statistic = input(\"Enter a statistic: \")\n",
        "  if statistic not in allData[country_code].keys():\n",
        "    print('Invalid statistic. Enter another!')\n",
        "    continue\n",
        "\n",
        "  if statistic == \"pop\":\n",
        "    print(f'Population = {allData[country_code][statistic]} million people')\n",
        "  elif statistic == 'gdp':\n",
        "    print(f'GDP = {allData[country_code][statistic]} trillion $')\n",
        "  elif statistic == 'ccy':\n",
        "    print(f'Currency = {allData[country_code][statistic]}')\n",
        "  else:\n",
        "    print(f'FX = {allData[country_code][statistic]}')\n",
        "\n"
      ],
      "metadata": {
        "id": "NZFjRINKowEW",
        "colab": {
          "base_uri": "https://localhost:8080/"
        },
        "outputId": "b5696e1e-0d9a-45a3-8763-f6c977bdd69f"
      },
      "execution_count": 1,
      "outputs": [
        {
          "name": "stdout",
          "output_type": "stream",
          "text": [
            "Enter a country code (or type exit if you want to stop): 25\n",
            "This country code does not exist. Enter another\n",
            "Enter a country code (or type exit if you want to stop): 250\n",
            "This country code does not exist. Enter another\n",
            "Enter a country code (or type exit if you want to stop): 77\n",
            "This country code does not exist. Enter another\n",
            "Enter a country code (or type exit if you want to stop): ca\n",
            "This country code does not exist. Enter another\n",
            "Enter a country code (or type exit if you want to stop): CA\n",
            "Enter a statistic: pop\n",
            "Population = 36.5 million people\n",
            "Enter a country code (or type exit if you want to stop): exit\n"
          ]
        }
      ]
    },
    {
      "cell_type": "markdown",
      "source": [
        "## Assignment 3: Parking Garage (6 points)\n",
        "\n",
        "Write a program to compute the fee for parking in a garage for a number of hours.\n",
        "\n",
        "The program should:\n",
        "- Prompt the user for how many hours parked\n",
        "- Calculate the fee based on the following rules:\n",
        "  - $2.50/hour\n",
        "\n",
        "  - minimum fee is $6.00\n",
        "\n",
        "  - maximum fee is $20.00\n",
        "- Print the result\n",
        "\n",
        "For your program, define and use the following two functions:\n",
        "```python\n",
        "# use input() to prompt for the # of hours parked, return this value\n",
        "def getParkingHours()\n",
        "\n",
        "# takes as input hours (a number), returns the parking fee\n",
        "def calcParkingFee()\n",
        "```"
      ],
      "metadata": {
        "id": "GjaUFrnfpKFf"
      }
    },
    {
      "cell_type": "code",
      "source": [
        "def getParkingHours():\n",
        "   n= int(input(\"Hours parked: \"))\n",
        "   return n\n",
        "def calcParkingFee(x):\n",
        "    Fee = x*2.50\n",
        "    if Fee < 6.0:\n",
        "      return print('Parking Fee: $6.00')\n",
        "    elif Fee > 20:\n",
        "      return print('Parking Fee: $20.00')\n",
        "    else:\n",
        "      return print(f'Parking Fee: ${Fee}0')"
      ],
      "metadata": {
        "id": "5ha4O3V5pwNN"
      },
      "execution_count": null,
      "outputs": []
    },
    {
      "cell_type": "code",
      "source": [
        "Hours = getParkingHours()\n",
        "calcParkingFee(Hours)"
      ],
      "metadata": {
        "colab": {
          "base_uri": "https://localhost:8080/"
        },
        "id": "VN20aHG7M3b0",
        "outputId": "270943ad-6c59-4e2f-f329-efb24068a3a3"
      },
      "execution_count": null,
      "outputs": [
        {
          "output_type": "stream",
          "name": "stdout",
          "text": [
            "Hours parked: 3\n",
            "Parking Fee: $7.50\n"
          ]
        }
      ]
    },
    {
      "cell_type": "markdown",
      "source": [
        "## Assignment 4: Tuition (6 points)\n",
        "\n",
        "A college charges tuition according to the following:\n",
        "- 12 or more credits: $20,000/semester\n",
        "\n",
        "- 1-11 credits: $1,200 + $1,700 per credit\n",
        "\n",
        "Write a program that prompts the user for a number of credits and determines and displays the tuition for the semester. As part of your program, define and use the following function:\n",
        "```python\n",
        "def calcTuition(credits)\n",
        "```\n",
        "The function returns the tuition for a given number of credits"
      ],
      "metadata": {
        "id": "gipBObe5qm-2"
      }
    },
    {
      "cell_type": "code",
      "source": [
        "def calcTuition(credits):\n",
        "  if credits >= 12:\n",
        "    print(f'Tuition = 20,000$')\n",
        "  elif credits < 12 and credits >=1:\n",
        "    print(f'Tuition = {1200 + 1700*credits}$')\n",
        "  else:\n",
        "    [print(f'Invalid number of credits: {credits}')]\n",
        "\n",
        "credits = int(input('Enter number of credits: '))\n",
        "calcTuition(credits)"
      ],
      "metadata": {
        "id": "BPcn9ywzrL8y",
        "colab": {
          "base_uri": "https://localhost:8080/"
        },
        "outputId": "5568a181-9c82-4631-b7fa-19b8a6df8b70"
      },
      "execution_count": 2,
      "outputs": [
        {
          "output_type": "stream",
          "name": "stdout",
          "text": [
            "Enter number of credits: 3\n",
            "Tuition = 6300$\n"
          ]
        }
      ]
    }
  ]
}