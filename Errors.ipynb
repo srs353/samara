{
  "nbformat": 4,
  "nbformat_minor": 0,
  "metadata": {
    "colab": {
      "provenance": [],
      "authorship_tag": "ABX9TyOIS/gLSZxziEfvM7L+MgP2",
      "include_colab_link": true
    },
    "kernelspec": {
      "name": "python3",
      "display_name": "Python 3"
    },
    "language_info": {
      "name": "python"
    }
  },
  "cells": [
    {
      "cell_type": "markdown",
      "metadata": {
        "id": "view-in-github",
        "colab_type": "text"
      },
      "source": [
        "<a href=\"https://colab.research.google.com/github/srs353/samara/blob/main/Errors.ipynb\" target=\"_parent\"><img src=\"https://colab.research.google.com/assets/colab-badge.svg\" alt=\"Open In Colab\"/></a>"
      ]
    },
    {
      "cell_type": "code",
      "execution_count": 42,
      "metadata": {
        "id": "KDnrYDRyTUBD"
      },
      "outputs": [],
      "source": [
        "def avg(alist):\n",
        "  try:\n",
        "    return sum(alist)/len(alist)\n",
        "  except ZeroDivisionError:\n",
        "    print('Division by zero not allowed!')\n",
        "    return[]\n",
        "  except TypeError:\n",
        "    print(\"Object type not allowed!\")\n",
        "    return float('nan')\n"
      ]
    },
    {
      "cell_type": "code",
      "source": [
        "list1 = (9,\"k\")\n",
        "avg(list1)"
      ],
      "metadata": {
        "colab": {
          "base_uri": "https://localhost:8080/"
        },
        "id": "YlFN2_2pT5mF",
        "outputId": "b906f37e-ff2d-4428-f3cb-c0ea4136f3af"
      },
      "execution_count": 43,
      "outputs": [
        {
          "output_type": "stream",
          "name": "stdout",
          "text": [
            "Object type not allowed!\n"
          ]
        },
        {
          "output_type": "execute_result",
          "data": {
            "text/plain": [
              "nan"
            ]
          },
          "metadata": {},
          "execution_count": 43
        }
      ]
    }
  ]
}